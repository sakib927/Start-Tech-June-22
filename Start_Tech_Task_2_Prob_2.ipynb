{
  "cells": [
    {
      "cell_type": "markdown",
      "metadata": {
        "id": "view-in-github",
        "colab_type": "text"
      },
      "source": [
        "<a href=\"https://colab.research.google.com/github/sakib927/Start-Tech-June-22/blob/main/Start_Tech_Task_2_Prob_2.ipynb\" target=\"_parent\"><img src=\"https://colab.research.google.com/assets/colab-badge.svg\" alt=\"Open In Colab\"/></a>"
      ]
    },
    {
      "cell_type": "markdown",
      "source": [
        "Importing library "
      ],
      "metadata": {
        "id": "HEftLq_R0R9a"
      }
    },
    {
      "cell_type": "code",
      "execution_count": 1,
      "metadata": {
        "id": "JPDy60jb2v1S"
      },
      "outputs": [],
      "source": [
        "from keras.models import Sequential"
      ]
    },
    {
      "cell_type": "code",
      "execution_count": 2,
      "metadata": {
        "id": "I4owWaqZC-iw"
      },
      "outputs": [],
      "source": [
        "import tensorflow as tf\n",
        "\n",
        "import tensorflow_datasets as tfds\n"
      ]
    },
    {
      "cell_type": "code",
      "execution_count": 3,
      "metadata": {
        "id": "0IgPL9WEDffZ"
      },
      "outputs": [],
      "source": [
        "from keras.layers.core import Dense, Activation, Dropout, Flatten\n",
        "from keras.layers.convolutional import Convolution2D, MaxPooling2D\n",
        "#from keras.optimizers import  RMSprop, adam\n",
        "from tensorflow.keras.optimizers import SGD,RMSprop,Adam\n",
        "from keras.utils import np_utils\n",
        "from sklearn.tree import DecisionTreeClassifier # Import Decision Tree Classifier\n",
        "from sklearn import metrics \n",
        "from sklearn.utils import shuffle\n",
        "from sklearn.model_selection import train_test_split\n",
        "import matplotlib.image as mpimg\n",
        "import matplotlib.pyplot as plt\n",
        "import numpy as np\n",
        "import os\n",
        "import cv2\n",
        "import random\n",
        "from numpy import *\n",
        "from PIL import Image\n",
        "import theano\n",
        "from tqdm import tqdm \n",
        "from skimage import io"
      ]
    },
    {
      "cell_type": "markdown",
      "source": [
        "Importing The Dataset"
      ],
      "metadata": {
        "id": "ph1_M7HP0Z-e"
      }
    },
    {
      "cell_type": "code",
      "execution_count": 25,
      "metadata": {
        "id": "iy_zvMVIEx_P"
      },
      "outputs": [],
      "source": [
        "path_test = \"/content/drive/MyDrive/Osteoarthritis_train\"\n",
        "class_names = ['Normal','Osteoarthritis']\n",
        "nb_classes = len(class_names)\n",
        "image_size = (256,256)"
      ]
    },
    {
      "cell_type": "markdown",
      "source": [
        "Loading The dataset and labeling it"
      ],
      "metadata": {
        "id": "lTzgBUAJ0gO-"
      }
    },
    {
      "cell_type": "code",
      "execution_count": 5,
      "metadata": {
        "id": "KAAnkQsEGzdc"
      },
      "outputs": [],
      "source": [
        "def load_data():\n",
        "    \n",
        "    datasets = ['/content/drive/MyDrive/Osteoarthritis_train']\n",
        "    images = []\n",
        "    labels = []\n",
        "\n",
        "    # iterate through training and test sets\n",
        "    count =0\n",
        "    for dataset in datasets:\n",
        "\n",
        "        # iterate through folders in each dataset\n",
        "        for folder in os.listdir(dataset):\n",
        "\n",
        "            if folder in ['Normal']: label = 1\n",
        "            elif folder in ['Osteoarthritis']: label = 2\n",
        "            else : print(700)\n",
        "\n",
        "\n",
        "            # iterate through each image in folder\n",
        "            for file in tqdm(os.listdir(os.path.join(dataset, folder))):\n",
        "\n",
        "                # get pathname of each image\n",
        "                img_path = os.path.join(os.path.join(dataset, folder), file)\n",
        "\n",
        "                # Open \n",
        "                image = cv2.imread(img_path)\n",
        "                image = cv2.cvtColor(image, cv2.COLOR_BGR2RGB)\n",
        "                \n",
        "                # resize the image\n",
        "                image = cv2.resize(image, image_size)\n",
        "\n",
        "                # Append the image and its corresponding label to the output\n",
        "                images.append(image)\n",
        "                labels.append(label)\n",
        "\n",
        "    images = np.array(images, dtype = 'float32')\n",
        "    labels = np.array(labels, dtype = 'int32')\n",
        "\n",
        "    return images, labels"
      ]
    },
    {
      "cell_type": "code",
      "execution_count": 6,
      "metadata": {
        "id": "NfodzOoaHvxv",
        "colab": {
          "base_uri": "https://localhost:8080/"
        },
        "outputId": "55b6896e-7525-43de-ced1-9fd88554e0e6"
      },
      "outputs": [
        {
          "output_type": "stream",
          "name": "stderr",
          "text": [
            "100%|██████████| 2026/2026 [00:40<00:00, 50.15it/s] \n",
            "100%|██████████| 1589/1589 [00:24<00:00, 63.68it/s] \n"
          ]
        }
      ],
      "source": [
        "images, labels = load_data()"
      ]
    },
    {
      "cell_type": "markdown",
      "source": [
        "Spliting the Train And Test Data"
      ],
      "metadata": {
        "id": "fql8fyO20m6G"
      }
    },
    {
      "cell_type": "code",
      "execution_count": 7,
      "metadata": {
        "id": "4oeXn5IUJK0L"
      },
      "outputs": [],
      "source": [
        "images, labels = shuffle(images, labels, random_state=10)\n",
        "\n",
        "train_images, test_images, train_labels, test_labels = train_test_split(images, labels, test_size = 0.2)\n",
        "test_images, val_images, test_labels, val_labels = train_test_split(test_images, test_labels, test_size = 0.5)"
      ]
    },
    {
      "cell_type": "code",
      "execution_count": 8,
      "metadata": {
        "id": "Hs4O3ez_JM0y",
        "colab": {
          "base_uri": "https://localhost:8080/"
        },
        "outputId": "1be329aa-9e78-4a22-f362-4518d203d6b6"
      },
      "outputs": [
        {
          "output_type": "stream",
          "name": "stdout",
          "text": [
            "Number of training examples: 2892\n",
            "Number of validation examples: 362\n",
            "Number of testing examples: 361\n",
            "Training images are of shape: (2892, 256, 256, 3)\n",
            "Training labels are of shape: (2892,)\n",
            "Validation images are of shape: (362, 256, 256, 3)\n",
            "Validation labels are of shape: (362,)\n",
            "Test images are of shape: (361, 256, 256, 3)\n",
            "Test labels are of shape: (361,)\n"
          ]
        }
      ],
      "source": [
        "n_train = train_labels.shape[0]\n",
        "n_val = val_labels.shape[0]\n",
        "n_test = test_labels.shape[0]\n",
        "\n",
        "print(\"Number of training examples: {}\".format(n_train))\n",
        "print(\"Number of validation examples: {}\".format(n_val))\n",
        "print(\"Number of testing examples: {}\".format(n_test))\n",
        "\n",
        "print(\"Training images are of shape: {}\".format(train_images.shape))\n",
        "print(\"Training labels are of shape: {}\".format(train_labels.shape))\n",
        "print(\"Validation images are of shape: {}\".format(val_images.shape))\n",
        "print(\"Validation labels are of shape: {}\".format(val_labels.shape))\n",
        "print(\"Test images are of shape: {}\".format(test_images.shape))\n",
        "print(\"Test labels are of shape: {}\".format(test_labels.shape))"
      ]
    },
    {
      "cell_type": "markdown",
      "source": [
        "Filtering the data"
      ],
      "metadata": {
        "id": "zOeieQ1T0tXG"
      }
    },
    {
      "cell_type": "code",
      "execution_count": 9,
      "metadata": {
        "id": "YrAgprb8KKI-"
      },
      "outputs": [],
      "source": [
        "train_images = train_images / 255.0 \n",
        "val_images = val_images / 255.0\n",
        "test_images = test_images / 255.0"
      ]
    },
    {
      "cell_type": "code",
      "execution_count": 10,
      "metadata": {
        "id": "E9fxLG56Nwgl"
      },
      "outputs": [],
      "source": [
        "from keras.layers import Lambda, SeparableConv2D, BatchNormalization, Dropout, MaxPooling2D, Input, Dense, Conv2D, Activation, Flatten \n",
        "from keras.callbacks import EarlyStopping, ReduceLROnPlateau, ModelCheckpoint"
      ]
    },
    {
      "cell_type": "markdown",
      "source": [
        "Building The Model"
      ],
      "metadata": {
        "id": "2zECxZbw0yd2"
      }
    },
    {
      "cell_type": "code",
      "execution_count": 16,
      "metadata": {
        "id": "mehFuFSaO_hL"
      },
      "outputs": [],
      "source": [
        "nb_classes = 3\n",
        "nb_epochs = 10\n",
        "img_rows, img_columns = 256, 256\n",
        "img_channel = 3\n",
        "nb_filters = 32\n",
        "nb_pool = 2\n",
        "nb_conv = 3\n",
        "model = tf.keras.Sequential([\n",
        "    tf.keras.layers.Conv2D(32, (3,3), padding='same', activation=tf.nn.relu,\n",
        "                           input_shape=(256, 256, 3)),\n",
        "    tf.keras.layers.MaxPooling2D((2, 2), strides=2),\n",
        "    tf.keras.layers.Conv2D(32, (3,3), padding='same', activation=tf.nn.relu),\n",
        "    tf.keras.layers.MaxPooling2D((2, 2), strides=2),\n",
        "    tf.keras.layers.Dropout(0.5),\n",
        "    tf.keras.layers.Flatten(),\n",
        "    tf.keras.layers.Dense(128, activation=tf.nn.relu),\n",
        "    tf.keras.layers.Dense(3,  activation=tf.nn.softmax)\n",
        "])"
      ]
    },
    {
      "cell_type": "code",
      "execution_count": 17,
      "metadata": {
        "id": "nJ9dUkQMPhlr",
        "colab": {
          "base_uri": "https://localhost:8080/"
        },
        "outputId": "cc216c22-80e8-471a-c755-d1fa8fa00cad"
      },
      "outputs": [
        {
          "output_type": "stream",
          "name": "stdout",
          "text": [
            "Epoch 1/10\n",
            "91/91 [==============================] - 207s 2s/step - loss: 1.1819 - accuracy: 0.5456 - val_loss: 0.6782 - val_accuracy: 0.5402\n",
            "Epoch 2/10\n",
            "91/91 [==============================] - 206s 2s/step - loss: 0.6748 - accuracy: 0.5768 - val_loss: 0.6774 - val_accuracy: 0.5235\n",
            "Epoch 3/10\n",
            "91/91 [==============================] - 205s 2s/step - loss: 0.6733 - accuracy: 0.5844 - val_loss: 0.7505 - val_accuracy: 0.4626\n",
            "Epoch 4/10\n",
            "91/91 [==============================] - 202s 2s/step - loss: 0.6643 - accuracy: 0.6027 - val_loss: 0.6680 - val_accuracy: 0.5706\n",
            "Epoch 5/10\n",
            "91/91 [==============================] - 204s 2s/step - loss: 0.6289 - accuracy: 0.6390 - val_loss: 0.6579 - val_accuracy: 0.5817\n",
            "Epoch 6/10\n",
            "91/91 [==============================] - 203s 2s/step - loss: 0.6216 - accuracy: 0.6432 - val_loss: 0.6508 - val_accuracy: 0.6427\n",
            "Epoch 7/10\n",
            "91/91 [==============================] - 207s 2s/step - loss: 0.6078 - accuracy: 0.6580 - val_loss: 0.6462 - val_accuracy: 0.6537\n",
            "Epoch 8/10\n",
            "91/91 [==============================] - 203s 2s/step - loss: 0.5707 - accuracy: 0.6950 - val_loss: 0.6669 - val_accuracy: 0.6094\n",
            "Epoch 9/10\n",
            "91/91 [==============================] - 203s 2s/step - loss: 0.5458 - accuracy: 0.7265 - val_loss: 0.6328 - val_accuracy: 0.6371\n",
            "Epoch 10/10\n",
            "91/91 [==============================] - 201s 2s/step - loss: 0.5197 - accuracy: 0.7358 - val_loss: 0.6412 - val_accuracy: 0.6731\n"
          ]
        }
      ],
      "source": [
        "model.compile(optimizer='adam',loss='sparse_categorical_crossentropy',metrics=['accuracy'])\n",
        "history2  = model.fit(train_images, train_labels, epochs = nb_epochs, verbose = 1, validation_data = (test_images, test_labels))"
      ]
    },
    {
      "cell_type": "code",
      "execution_count": 18,
      "metadata": {
        "id": "HU4hWKNaQnNF",
        "colab": {
          "base_uri": "https://localhost:8080/"
        },
        "outputId": "58f4c003-496d-484c-9121-fd6d4aa7a1c6"
      },
      "outputs": [
        {
          "output_type": "stream",
          "name": "stdout",
          "text": [
            "Test Score:  0.6411809921264648\n",
            "Test accuracy:  0.673130214214325\n"
          ]
        }
      ],
      "source": [
        "score = model.evaluate(test_images, test_labels, verbose = 0 )\n",
        "print(\"Test Score: \", score[0])\n",
        "print(\"Test accuracy: \", score[1])"
      ]
    },
    {
      "cell_type": "markdown",
      "source": [
        "Visualizing The results "
      ],
      "metadata": {
        "id": "ARR9JdWv04Le"
      }
    },
    {
      "cell_type": "code",
      "execution_count": 19,
      "metadata": {
        "id": "4QDKFJcaRBFT"
      },
      "outputs": [],
      "source": [
        "def plot_accuracy_loss_chart(history):\n",
        "    epochs = [i for i in range(10)]\n",
        "    fig , ax = plt.subplots(1,2)\n",
        "    train_acc = history.history['accuracy']\n",
        "    train_loss = history.history['loss']\n",
        "    val_acc = history.history['val_accuracy']\n",
        "    val_loss = history.history['val_loss']\n",
        "    fig.set_size_inches(20,10)\n",
        "    ax[0].plot(epochs , train_acc , 'go-' , label = 'Training Accuracy')\n",
        "    ax[0].plot(epochs , val_acc , 'ro-' , label = 'Validation Accuracy')\n",
        "    ax[0].set_title('Training & Validation Accuracy')\n",
        "    ax[0].legend()\n",
        "    ax[0].set_xlabel(\"Epochs\")\n",
        "    ax[0].set_ylabel(\"Accuracy\")\n",
        "\n",
        "    ax[1].plot(epochs , train_loss , 'g-o' , label = 'Training Loss')\n",
        "    ax[1].plot(epochs , val_loss , 'r-o' , label = 'Validation Loss')\n",
        "    ax[1].set_title('Training & Validation Loss')\n",
        "    ax[1].legend()\n",
        "    ax[1].set_xlabel(\"Epochs\")\n",
        "    ax[1].set_ylabel(\"Training & Validation Loss\")\n",
        "    plt.show()"
      ]
    },
    {
      "cell_type": "code",
      "execution_count": 20,
      "metadata": {
        "id": "_4aEdk0AfdFQ",
        "colab": {
          "base_uri": "https://localhost:8080/",
          "height": 621
        },
        "outputId": "64de18ca-715e-436e-80f7-26f3457b48a4"
      },
      "outputs": [
        {
          "output_type": "display_data",
          "data": {
            "text/plain": [
              "<Figure size 1440x720 with 2 Axes>"
            ],
            "image/png": "[encoded data removed]"
          },
          "metadata": {
            "needs_background": "light"
          }
        }
      ],
      "source": [
        "plot_accuracy_loss_chart(history2)"
      ]
    },
    {
      "cell_type": "markdown",
      "source": [
        "Model Evaluation"
      ],
      "metadata": {
        "id": "XO8APG7O1AKd"
      }
    },
    {
      "cell_type": "code",
      "execution_count": 21,
      "metadata": {
        "id": "Q8TAgHC-Ru-z",
        "colab": {
          "base_uri": "https://localhost:8080/"
        },
        "outputId": "db912c3b-df4d-4f89-b045-8ee4ea415d60"
      },
      "outputs": [
        {
          "output_type": "stream",
          "name": "stdout",
          "text": [
            "12/12 [==============================] - 6s 531ms/step - loss: 0.6412 - accuracy: 0.6731\n",
            "Loss of the model  is - test  0.6411809921264648\n",
            "Accuracy of the model is - test 67.3130214214325 %\n",
            "12/12 [==============================] - 6s 531ms/step - loss: 0.5830 - accuracy: 0.7238\n",
            "Loss of the model  is - val  0.5829643607139587\n",
            "Accuracy of the model is - val 72.37569093704224 %\n",
            "91/91 [==============================] - 51s 563ms/step - loss: 0.4902 - accuracy: 0.7697\n",
            "Loss of the model  is - train  0.49016544222831726\n",
            "Accuracy of the model is - train 76.97095274925232 %\n"
          ]
        }
      ],
      "source": [
        "results = model.evaluate(test_images, test_labels)\n",
        "\n",
        "print(\"Loss of the model  is - test \", results[0])\n",
        "print(\"Accuracy of the model is - test\", results[1]*100, \"%\")\n",
        "\n",
        "\n",
        "results = model.evaluate(val_images, val_labels)\n",
        "\n",
        "print(\"Loss of the model  is - val \", results[0])\n",
        "print(\"Accuracy of the model is - val\", results[1]*100, \"%\")\n",
        "\n",
        "results = model.evaluate(train_images, train_labels)\n",
        "\n",
        "print(\"Loss of the model  is - train \", results[0])\n",
        "print(\"Accuracy of the model is - train\", results[1]*100, \"%\")"
      ]
    },
    {
      "cell_type": "markdown",
      "source": [
        "Model Prediction"
      ],
      "metadata": {
        "id": "lFGYRi9e1EZW"
      }
    },
    {
      "cell_type": "code",
      "source": [
        "from sklearn.metrics import classification_report\n",
        "\n",
        "predictions = model.predict(test_images)\n",
        "predictions = np.argmax(predictions,axis=1)\n",
        "predictions[:100]"
      ],
      "metadata": {
        "colab": {
          "base_uri": "https://localhost:8080/"
        },
        "id": "1w3wYI2ENc4k",
        "outputId": "22838b45-5253-49c7-9e63-c0513481b871"
      },
      "execution_count": 22,
      "outputs": [
        {
          "output_type": "execute_result",
          "data": {
            "text/plain": [
              "array([2, 1, 1, 2, 2, 1, 2, 1, 2, 1, 2, 2, 1, 2, 2, 2, 2, 1, 2, 1, 2, 1,\n",
              "       2, 2, 2, 1, 2, 2, 2, 2, 1, 2, 2, 1, 2, 1, 2, 2, 2, 2, 2, 1, 2, 2,\n",
              "       1, 2, 1, 1, 1, 2, 2, 2, 2, 2, 2, 2, 2, 2, 2, 2, 1, 2, 2, 2, 2, 2,\n",
              "       2, 2, 2, 2, 2, 2, 1, 2, 2, 2, 2, 1, 2, 2, 2, 2, 2, 2, 2, 2, 2, 2,\n",
              "       2, 2, 2, 1, 2, 2, 2, 2, 2, 1, 2, 2])"
            ]
          },
          "metadata": {},
          "execution_count": 22
        }
      ]
    },
    {
      "cell_type": "markdown",
      "source": [
        "Creating a Confusion Matrix"
      ],
      "metadata": {
        "id": "u0wbS-aQ1ING"
      }
    },
    {
      "cell_type": "code",
      "source": [
        "from sklearn.metrics import ConfusionMatrixDisplay,confusion_matrix\n",
        "import pandas as pd\n",
        "\n",
        "cm = confusion_matrix(test_labels, predictions)\n",
        "cm = pd.DataFrame(cm, index = ['1', '2'], columns = ['1', '2'])\n",
        "cm"
      ],
      "metadata": {
        "colab": {
          "base_uri": "https://localhost:8080/",
          "height": 112
        },
        "id": "1LXh7AsKNlbp",
        "outputId": "01801743-3020-40a3-fea2-1b01f540638a"
      },
      "execution_count": 23,
      "outputs": [
        {
          "output_type": "execute_result",
          "data": {
            "text/plain": [
              "    1    2\n",
              "1  55  106\n",
              "2  12  188"
            ],
            "text/html": [
              "\n",
              "  <div id=\"df-f4cad445-f8e0-4f3a-8a4b-d967d0eddf23\">\n",
              "    <div class=\"colab-df-container\">\n",
              "      <div>\n",
              "<style scoped>\n",
              "    .dataframe tbody tr th:only-of-type {\n",
              "        vertical-align: middle;\n",
              "    }\n",
              "\n",
              "    .dataframe tbody tr th {\n",
              "        vertical-align: top;\n",
              "    }\n",
              "\n",
              "    .dataframe thead th {\n",
              "        text-align: right;\n",
              "    }\n",
              "</style>\n",
              "<table border=\"1\" class=\"dataframe\">\n",
              "  <thead>\n",
              "    <tr style=\"text-align: right;\">\n",
              "      <th></th>\n",
              "      <th>1</th>\n",
              "      <th>2</th>\n",
              "    </tr>\n",
              "  </thead>\n",
              "  <tbody>\n",
              "    <tr>\n",
              "      <th>1</th>\n",
              "      <td>55</td>\n",
              "      <td>106</td>\n",
              "    </tr>\n",
              "    <tr>\n",
              "      <th>2</th>\n",
              "      <td>12</td>\n",
              "      <td>188</td>\n",
              "    </tr>\n",
              "  </tbody>\n",
              "</table>\n",
              "</div>\n",
              "      <button class=\"colab-df-convert\" onclick=\"convertToInteractive('df-f4cad445-f8e0-4f3a-8a4b-d967d0eddf23')\"\n",
              "              title=\"Convert this dataframe to an interactive table.\"\n",
              "              style=\"display:none;\">\n",
              "        \n",
              "  <svg xmlns=\"http://www.w3.org/2000/svg\" height=\"24px\"viewBox=\"0 0 24 24\"\n",
              "       width=\"24px\">\n",
              "    <path d=\"M0 0h24v24H0V0z\" fill=\"none\"/>\n",
              "    <path d=\"M18.56 5.44l.94 2.06.94-2.06 2.06-.94-2.06-.94-.94-2.06-.94 2.06-2.06.94zm-11 1L8.5 8.5l.94-2.06 2.06-.94-2.06-.94L8.5 2.5l-.94 2.06-2.06.94zm10 10l.94 2.06.94-2.06 2.06-.94-2.06-.94-.94-2.06-.94 2.06-2.06.94z\"/><path d=\"M17.41 7.96l-1.37-1.37c-.4-.4-.92-.59-1.43-.59-.52 0-1.04.2-1.43.59L10.3 9.45l-7.72 7.72c-.78.78-.78 2.05 0 2.83L4 21.41c.39.39.9.59 1.41.59.51 0 1.02-.2 1.41-.59l7.78-7.78 2.81-2.81c.8-.78.8-2.07 0-2.86zM5.41 20L4 18.59l7.72-7.72 1.47 1.35L5.41 20z\"/>\n",
              "  </svg>\n",
              "      </button>\n",
              "      \n",
              "  <style>\n",
              "    .colab-df-container {\n",
              "      display:flex;\n",
              "      flex-wrap:wrap;\n",
              "      gap: 12px;\n",
              "    }\n",
              "\n",
              "    .colab-df-convert {\n",
              "      background-color: #E8F0FE;\n",
              "      border: none;\n",
              "      border-radius: 50%;\n",
              "      cursor: pointer;\n",
              "      display: none;\n",
              "      fill: #1967D2;\n",
              "      height: 32px;\n",
              "      padding: 0 0 0 0;\n",
              "      width: 32px;\n",
              "    }\n",
              "\n",
              "    .colab-df-convert:hover {\n",
              "      background-color: #E2EBFA;\n",
              "      box-shadow: 0px 1px 2px rgba(60, 64, 67, 0.3), 0px 1px 3px 1px rgba(60, 64, 67, 0.15);\n",
              "      fill: #174EA6;\n",
              "    }\n",
              "\n",
              "    [theme=dark] .colab-df-convert {\n",
              "      background-color: #3B4455;\n",
              "      fill: #D2E3FC;\n",
              "    }\n",
              "\n",
              "    [theme=dark] .colab-df-convert:hover {\n",
              "      background-color: #434B5C;\n",
              "      box-shadow: 0px 1px 3px 1px rgba(0, 0, 0, 0.15);\n",
              "      filter: drop-shadow(0px 1px 2px rgba(0, 0, 0, 0.3));\n",
              "      fill: #FFFFFF;\n",
              "    }\n",
              "  </style>\n",
              "\n",
              "      <script>\n",
              "        const buttonEl =\n",
              "          document.querySelector('#df-f4cad445-f8e0-4f3a-8a4b-d967d0eddf23 button.colab-df-convert');\n",
              "        buttonEl.style.display =\n",
              "          google.colab.kernel.accessAllowed ? 'block' : 'none';\n",
              "\n",
              "        async function convertToInteractive(key) {\n",
              "          const element = document.querySelector('#df-f4cad445-f8e0-4f3a-8a4b-d967d0eddf23');\n",
              "          const dataTable =\n",
              "            await google.colab.kernel.invokeFunction('convertToInteractive',\n",
              "                                                     [key], {});\n",
              "          if (!dataTable) return;\n",
              "\n",
              "          const docLinkHtml = 'Like what you see? Visit the ' +\n",
              "            '<a target=\"_blank\" href=https://colab.research.google.com/notebooks/data_table.ipynb>data table notebook</a>'\n",
              "            + ' to learn more about interactive tables.';\n",
              "          element.innerHTML = '';\n",
              "          dataTable['output_type'] = 'display_data';\n",
              "          await google.colab.output.renderOutput(dataTable, element);\n",
              "          const docLink = document.createElement('div');\n",
              "          docLink.innerHTML = docLinkHtml;\n",
              "          element.appendChild(docLink);\n",
              "        }\n",
              "      </script>\n",
              "    </div>\n",
              "  </div>\n",
              "  "
            ]
          },
          "metadata": {},
          "execution_count": 23
        }
      ]
    },
    {
      "cell_type": "code",
      "source": [
        "import seaborn as sns\n",
        "def plot_confusion_matrix (cm):\n",
        "    plt.figure(figsize = (10,10))\n",
        "    sns.heatmap(\n",
        "        cm, \n",
        "        cmap = 'Blues', \n",
        "        linecolor = 'black', \n",
        "        linewidth = 1, \n",
        "        annot = True, \n",
        "        fmt = '', \n",
        "        xticklabels = class_names, \n",
        "        yticklabels = class_names)\n",
        "    \n",
        "plot_confusion_matrix(cm)\n"
      ],
      "metadata": {
        "colab": {
          "base_uri": "https://localhost:8080/",
          "height": 592
        },
        "id": "gw4HJfiyNrlI",
        "outputId": "8ee905c8-3a2d-4d89-ecd9-fd26c9d42b6c"
      },
      "execution_count": 26,
      "outputs": [
        {
          "output_type": "display_data",
          "data": {
            "text/plain": [
              "<Figure size 720x720 with 2 Axes>"
            ],
            "image/png": "[encoded data removed]"
          },
          "metadata": {
            "needs_background": "light"
          }
        }
      ]
    }
  ],
  "metadata": {
    "colab": {
      "name": "Start-Tech-Task-2-Prob_2.ipynb",
      "provenance": [],
      "collapsed_sections": [],
      "mount_file_id": "1on4P43ZKeoi0eN1MV0pTzP13Fy_r0cCr",
      "authorship_tag": "ABX9TyOi3rwGsq3OTOBBGe0DOJh6",
      "include_colab_link": true
    },
    "kernelspec": {
      "display_name": "Python 3",
      "name": "python3"
    },
    "language_info": {
      "name": "python"
    }
  },
  "nbformat": 4,
  "nbformat_minor": 0
}